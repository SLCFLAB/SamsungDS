{
  "cells": [
    {
      "cell_type": "markdown",
      "metadata": {
        "id": "Ci5rV3dDPUe_"
      },
      "source": [
        "## 1. 미분법, 적분법 수업 내용 요약"
      ]
    },
    {
      "cell_type": "code",
      "execution_count": 1,
      "metadata": {
        "id": "R-2xrfi4PUfD"
      },
      "outputs": [],
      "source": [
        "# 아래 사이트 참고 해주세요 :)\n",
        "\n",
        "# https://ko.wikipedia.org/wiki/미분법\n",
        "# https://ko.wikipedia.org/wiki/적분표"
      ]
    },
    {
      "cell_type": "markdown",
      "metadata": {
        "id": "0CpjWum3PUfF"
      },
      "source": [
        "## 2. Sympy"
      ]
    },
    {
      "cell_type": "code",
      "execution_count": 2,
      "metadata": {
        "id": "su-mN4s2PUfF"
      },
      "outputs": [],
      "source": [
        "# 튜토리얼은 아래 사이트 참고\n",
        "# https://docs.sympy.org/latest/tutorial/calculus.html\n",
        "\n",
        "# 설치는 아래 코드\n",
        "#!conda install sympy\n",
        "# 혹은 터미널창에서 conda install sympy\n",
        "\n",
        "from sympy import *"
      ]
    },
    {
      "cell_type": "code",
      "execution_count": 5,
      "metadata": {
        "id": "nYiK9R8jPUfG"
      },
      "outputs": [],
      "source": [
        "# !pip install sympy"
      ]
    },
    {
      "cell_type": "code",
      "execution_count": 6,
      "metadata": {
        "id": "6nKZH0JKPUfG"
      },
      "outputs": [],
      "source": [
        "# 기호를 정의 해야함.\n",
        "\n",
        "x, y, z, t = symbols('x y z t')\n",
        "k, m, n = symbols('k m n', integer=True)\n",
        "f, g, h = symbols('f g h', cls=Function)"
      ]
    },
    {
      "cell_type": "code",
      "execution_count": 7,
      "metadata": {
        "id": "p8M8HK_pPUfG"
      },
      "outputs": [],
      "source": [
        "# 프린트 latex형태로 안나올 때\n",
        "\n",
        "init_printing(use_latex='mathjax')"
      ]
    },
    {
      "cell_type": "markdown",
      "metadata": {
        "id": "e19Tc-a0PUfH"
      },
      "source": [
        "## 3. Differentials"
      ]
    },
    {
      "cell_type": "code",
      "execution_count": 8,
      "metadata": {
        "id": "WdvGMLeYPUfI",
        "outputId": "b09b7e10-2126-458d-cf2f-492f13df31e4",
        "colab": {
          "base_uri": "https://localhost:8080/",
          "height": 38
        }
      },
      "outputs": [
        {
          "output_type": "execute_result",
          "data": {
            "text/plain": [
              "-sin(x)"
            ],
            "text/latex": "$\\displaystyle - \\sin{\\left(x \\right)}$"
          },
          "metadata": {},
          "execution_count": 8
        }
      ],
      "source": [
        "# x로 cos(x)를 미분\n",
        "\n",
        "diff(cos(x), x)"
      ]
    },
    {
      "cell_type": "code",
      "execution_count": 9,
      "metadata": {
        "id": "HH0YUNHrPUfJ",
        "outputId": "853f438d-ed7d-472c-dc76-f14eaebb218b",
        "colab": {
          "base_uri": "https://localhost:8080/",
          "height": 41
        }
      },
      "outputs": [
        {
          "output_type": "execute_result",
          "data": {
            "text/plain": [
              "     ⎛ 2⎞\n",
              "     ⎝x ⎠\n",
              "2⋅x⋅ℯ    "
            ],
            "text/latex": "$\\displaystyle 2 x e^{x^{2}}$"
          },
          "metadata": {},
          "execution_count": 9
        }
      ],
      "source": [
        "# x로 exp(x^2)를 미분\n",
        "\n",
        "diff(exp(x**2), x)"
      ]
    },
    {
      "cell_type": "code",
      "execution_count": 10,
      "metadata": {
        "id": "HWoepp8JPUfK",
        "outputId": "68edfdde-e167-4ddf-955f-bbb488003e23",
        "colab": {
          "base_uri": "https://localhost:8080/",
          "height": 38
        }
      },
      "outputs": [
        {
          "output_type": "execute_result",
          "data": {
            "text/plain": [
              "24⋅x"
            ],
            "text/latex": "$\\displaystyle 24 x$"
          },
          "metadata": {},
          "execution_count": 10
        }
      ],
      "source": [
        "# x로 x^4를 세번 미분\n",
        "\n",
        "diff(x**4, x, x, x)"
      ]
    },
    {
      "cell_type": "code",
      "execution_count": 11,
      "metadata": {
        "id": "OfPndBFUPUfK",
        "outputId": "589bda02-0cdd-4a1e-b275-3dbf93187adc",
        "colab": {
          "base_uri": "https://localhost:8080/",
          "height": 38
        }
      },
      "outputs": [
        {
          "output_type": "execute_result",
          "data": {
            "text/plain": [
              " 3  2 ⎛ 3  3  3       2  2  2                ⎞  x⋅y⋅z\n",
              "x ⋅y ⋅⎝x ⋅y ⋅z  + 14⋅x ⋅y ⋅z  + 52⋅x⋅y⋅z + 48⎠⋅ℯ     "
            ],
            "text/latex": "$\\displaystyle x^{3} y^{2} \\left(x^{3} y^{3} z^{3} + 14 x^{2} y^{2} z^{2} + 52 x y z + 48\\right) e^{x y z}$"
          },
          "metadata": {},
          "execution_count": 11
        }
      ],
      "source": [
        "# exp(xyz)를 x로 한번 미분, y로 2번 미분, z로 4번 미분\n",
        "\n",
        "diff(exp(x*y*z), x, y, y, z, z, z, z) # diff(exp(x*y*z), x, y, 2, z, 4) 같은 의미"
      ]
    },
    {
      "cell_type": "code",
      "execution_count": 12,
      "metadata": {
        "id": "g9WsifnPPUfL",
        "outputId": "db88bfca-eabd-4c55-8360-ee91f588d5f3",
        "colab": {
          "base_uri": "https://localhost:8080/",
          "height": 57
        }
      },
      "outputs": [
        {
          "output_type": "execute_result",
          "data": {
            "text/plain": [
              "     7            \n",
              "    ∂     ⎛ x⋅y⋅z⎞\n",
              "──────────⎝ℯ     ⎠\n",
              "  4   2           \n",
              "∂z  ∂y  ∂x        "
            ],
            "text/latex": "$\\displaystyle \\frac{\\partial^{7}}{\\partial z^{4}\\partial y^{2}\\partial x} e^{x y z}$"
          },
          "metadata": {},
          "execution_count": 12
        }
      ],
      "source": [
        "# 편미분 기호로 표현하고 싶을 때\n",
        "\n",
        "deriv = Derivative(exp(x*y*z), x, y, y, z, 4)\n",
        "deriv"
      ]
    },
    {
      "cell_type": "code",
      "execution_count": 13,
      "metadata": {
        "id": "wNsVgWzcPUfM",
        "outputId": "2d8dc546-348f-4905-9ec6-712cbb0839b1",
        "colab": {
          "base_uri": "https://localhost:8080/",
          "height": 38
        }
      },
      "outputs": [
        {
          "output_type": "execute_result",
          "data": {
            "text/plain": [
              " 3  2 ⎛ 3  3  3       2  2  2                ⎞  x⋅y⋅z\n",
              "x ⋅y ⋅⎝x ⋅y ⋅z  + 14⋅x ⋅y ⋅z  + 52⋅x⋅y⋅z + 48⎠⋅ℯ     "
            ],
            "text/latex": "$\\displaystyle x^{3} y^{2} \\left(x^{3} y^{3} z^{3} + 14 x^{2} y^{2} z^{2} + 52 x y z + 48\\right) e^{x y z}$"
          },
          "metadata": {},
          "execution_count": 13
        }
      ],
      "source": [
        "# deriv의 값을 알고 싶을 때\n",
        "\n",
        "deriv.doit()"
      ]
    },
    {
      "cell_type": "code",
      "execution_count": 14,
      "metadata": {
        "id": "FWmo1rTWPUfM",
        "outputId": "7a855855-38cb-417d-edcd-1871887ed414",
        "colab": {
          "base_uri": "https://localhost:8080/",
          "height": 51
        }
      },
      "outputs": [
        {
          "output_type": "execute_result",
          "data": {
            "text/plain": [
              "   2             1\n",
              "3⋅x  + 2⋅x - 2 + ─\n",
              "                 x"
            ],
            "text/latex": "$\\displaystyle 3 x^{2} + 2 x - 2 + \\frac{1}{x}$"
          },
          "metadata": {},
          "execution_count": 14
        }
      ],
      "source": [
        "func = x**3+y**3+(x-1)**2+(y-2)**2 + log(x) + exp(y)\n",
        "diff(func, x)"
      ]
    },
    {
      "cell_type": "code",
      "execution_count": 15,
      "metadata": {
        "id": "96aVFmfmPUfM",
        "outputId": "ca849e00-8dea-4c16-f36a-89c3d59d5483",
        "colab": {
          "base_uri": "https://localhost:8080/",
          "height": 38
        }
      },
      "outputs": [
        {
          "output_type": "execute_result",
          "data": {
            "text/plain": [
              "   2          y    \n",
              "3⋅y  + 2⋅y + ℯ  - 4"
            ],
            "text/latex": "$\\displaystyle 3 y^{2} + 2 y + e^{y} - 4$"
          },
          "metadata": {},
          "execution_count": 15
        }
      ],
      "source": [
        "diff(func, y)"
      ]
    },
    {
      "cell_type": "code",
      "execution_count": 16,
      "metadata": {
        "id": "9q7gEOunPUfN",
        "outputId": "19390c27-00f8-44c2-dd0d-147f79e74127",
        "colab": {
          "base_uri": "https://localhost:8080/",
          "height": 37
        }
      },
      "outputs": [
        {
          "output_type": "execute_result",
          "data": {
            "text/plain": [
              "0"
            ],
            "text/latex": "$\\displaystyle 0$"
          },
          "metadata": {},
          "execution_count": 16
        }
      ],
      "source": [
        "diff(func, x, y)"
      ]
    },
    {
      "cell_type": "markdown",
      "metadata": {
        "id": "0hCc5sC3PUfN"
      },
      "source": [
        "# 4. Integrals"
      ]
    },
    {
      "cell_type": "code",
      "execution_count": 17,
      "metadata": {
        "id": "A04FxDBmPUfO",
        "outputId": "887ebcc0-1100-4bed-f279-e4f48bf15fb3",
        "colab": {
          "base_uri": "https://localhost:8080/",
          "height": 38
        }
      },
      "outputs": [
        {
          "output_type": "execute_result",
          "data": {
            "text/plain": [
              "sin(x)"
            ],
            "text/latex": "$\\displaystyle \\sin{\\left(x \\right)}$"
          },
          "metadata": {},
          "execution_count": 17
        }
      ],
      "source": [
        "integrate(cos(x), x)"
      ]
    },
    {
      "cell_type": "code",
      "execution_count": 18,
      "metadata": {
        "id": "mUug3F9EPUfO",
        "outputId": "fc9bb604-1841-4328-c3fd-5300ec115942",
        "colab": {
          "base_uri": "https://localhost:8080/",
          "height": 38
        }
      },
      "outputs": [
        {
          "output_type": "execute_result",
          "data": {
            "text/plain": [
              "  -x\n",
              "-ℯ  "
            ],
            "text/latex": "$\\displaystyle - e^{- x}$"
          },
          "metadata": {},
          "execution_count": 18
        }
      ],
      "source": [
        "integrate(exp(-x), x)"
      ]
    },
    {
      "cell_type": "code",
      "execution_count": 19,
      "metadata": {
        "id": "uOAI66xwPUfO",
        "outputId": "554e6a0b-ebd4-48f7-8ce8-a4be4ba02a14",
        "colab": {
          "base_uri": "https://localhost:8080/",
          "height": 37
        }
      },
      "outputs": [
        {
          "output_type": "execute_result",
          "data": {
            "text/plain": [
              "1"
            ],
            "text/latex": "$\\displaystyle 1$"
          },
          "metadata": {},
          "execution_count": 19
        }
      ],
      "source": [
        "# 정적분 값을 알고 싶을 때\n",
        "# (function, (integration_variable, lower_limit, upper_limit))\n",
        "# infinity = 소문자 알파벳 o를 두번 입력\n",
        "\n",
        "integrate(exp(-x), (x, 0, oo))"
      ]
    },
    {
      "cell_type": "code",
      "execution_count": 20,
      "metadata": {
        "id": "yaZSWQOsPUfP",
        "outputId": "be70a72e-f93a-4a01-ec2f-64c9056ec552",
        "colab": {
          "base_uri": "https://localhost:8080/",
          "height": 38
        }
      },
      "outputs": [
        {
          "output_type": "execute_result",
          "data": {
            "text/plain": [
              "π"
            ],
            "text/latex": "$\\displaystyle \\pi$"
          },
          "metadata": {},
          "execution_count": 20
        }
      ],
      "source": [
        "integrate(exp(-x**2 - y**2), (x, -oo, oo), (y, -oo, oo))"
      ]
    },
    {
      "cell_type": "code",
      "execution_count": 21,
      "metadata": {
        "id": "6wlipZg3PUfP",
        "outputId": "31238748-ba3e-4ce9-855c-f179148b34d7",
        "colab": {
          "base_uri": "https://localhost:8080/",
          "height": 55
        }
      },
      "outputs": [
        {
          "output_type": "execute_result",
          "data": {
            "text/plain": [
              "⌠           \n",
              "⎮    2      \n",
              "⎮ log (x) dx\n",
              "⌡           "
            ],
            "text/latex": "$\\displaystyle \\int \\log{\\left(x \\right)}^{2}\\, dx$"
          },
          "metadata": {},
          "execution_count": 21
        }
      ],
      "source": [
        "# 적분 기호로 표현하고 싶을 때\n",
        "\n",
        "expr = Integral(log(x)**2, x)\n",
        "expr"
      ]
    },
    {
      "cell_type": "code",
      "execution_count": 22,
      "metadata": {
        "id": "NZd3bk3kPUfP",
        "outputId": "c7a59ce7-152f-42f6-d508-ff29b2e217b5",
        "colab": {
          "base_uri": "https://localhost:8080/",
          "height": 39
        }
      },
      "outputs": [
        {
          "output_type": "execute_result",
          "data": {
            "text/plain": [
              "     2                      \n",
              "x⋅log (x) - 2⋅x⋅log(x) + 2⋅x"
            ],
            "text/latex": "$\\displaystyle x \\log{\\left(x \\right)}^{2} - 2 x \\log{\\left(x \\right)} + 2 x$"
          },
          "metadata": {},
          "execution_count": 22
        }
      ],
      "source": [
        "# 적분 값을 알고 싶을 때\n",
        "\n",
        "expr.doit()"
      ]
    },
    {
      "cell_type": "code",
      "execution_count": null,
      "metadata": {
        "id": "SaoT9ynnPUfP",
        "outputId": "5de737f6-7277-4829-b47a-9e9bbb929ac0"
      },
      "outputs": [
        {
          "data": {
            "text/latex": [
              "$\\displaystyle \\int \\left(3 x^{2} + 3 y^{2} + e^{y} + \\frac{1}{x}\\right)\\, dx$"
            ],
            "text/plain": [
              "Integral(3*x**2 + 3*y**2 + exp(y) + 1/x, x)"
            ]
          },
          "execution_count": 8,
          "metadata": {},
          "output_type": "execute_result"
        }
      ],
      "source": [
        "expr = Integral(3*x*x+3*y*y+1/x+exp(y), x)\n",
        "expr"
      ]
    },
    {
      "cell_type": "code",
      "execution_count": null,
      "metadata": {
        "scrolled": true,
        "id": "SjDj7sXDPUfQ",
        "outputId": "6f61486a-f285-458c-9508-79ceecdedb0b"
      },
      "outputs": [
        {
          "data": {
            "text/latex": [
              "$\\displaystyle x^{3} + x \\left(3 y^{2} + e^{y}\\right) + \\log{\\left(x \\right)}$"
            ],
            "text/plain": [
              "x**3 + x*(3*y**2 + exp(y)) + log(x)"
            ]
          },
          "execution_count": 9,
          "metadata": {},
          "output_type": "execute_result"
        }
      ],
      "source": [
        "expr.doit()"
      ]
    },
    {
      "cell_type": "code",
      "execution_count": null,
      "metadata": {
        "id": "1kpDED3fPUfQ"
      },
      "outputs": [],
      "source": [
        ""
      ]
    },
    {
      "cell_type": "markdown",
      "metadata": {
        "id": "nGAcEbs6PUfQ"
      },
      "source": [
        "# 5. Taylor series"
      ]
    },
    {
      "cell_type": "code",
      "execution_count": null,
      "metadata": {
        "id": "uIEBTYgYPUfQ",
        "outputId": "2eaaed8d-b88b-4604-dee6-2e9d5c13d12d"
      },
      "outputs": [
        {
          "data": {
            "text/latex": [
              "$\\displaystyle \\sqrt{2} + \\frac{\\sqrt{2} \\left(x - 1\\right)}{4} - \\frac{\\sqrt{2} \\left(x - 1\\right)^{2}}{32} + \\frac{\\sqrt{2} \\left(x - 1\\right)^{3}}{128} + O\\left(\\left(x - 1\\right)^{4}; x\\rightarrow 1\\right)$"
            ],
            "text/plain": [
              "sqrt(2) + sqrt(2)*(x - 1)/4 - sqrt(2)*(x - 1)**2/32 + sqrt(2)*(x - 1)**3/128 + O((x - 1)**4, (x, 1))"
            ]
          },
          "metadata": {},
          "output_type": "display_data"
        }
      ],
      "source": [
        "x = Symbol('x')\n",
        "f = sqrt(1+x)\n",
        "f_taylor = f.series(x, x0=1, n=4)\n",
        "display(f_taylor)"
      ]
    },
    {
      "cell_type": "code",
      "execution_count": null,
      "metadata": {
        "id": "iPjcxoBWPUfQ",
        "outputId": "9fbfe086-b321-4189-d43f-3a5c18e97c02"
      },
      "outputs": [
        {
          "data": {
            "text/latex": [
              "$\\displaystyle \\frac{\\sqrt{2} \\left(x - 1\\right)^{3}}{128} - \\frac{\\sqrt{2} \\left(x - 1\\right)^{2}}{32} + \\frac{\\sqrt{2} \\left(x - 1\\right)}{4} + \\sqrt{2}$"
            ],
            "text/plain": [
              "sqrt(2)*(x - 1)**3/128 - sqrt(2)*(x - 1)**2/32 + sqrt(2)*(x - 1)/4 + sqrt(2)"
            ]
          },
          "metadata": {},
          "output_type": "display_data"
        }
      ],
      "source": [
        "f_taylor_valid = f_taylor.removeO()\n",
        "display(f_taylor_valid)"
      ]
    },
    {
      "cell_type": "code",
      "execution_count": null,
      "metadata": {
        "id": "fRjGhP_NPUfR",
        "outputId": "9565e98c-9adf-4f75-fdb6-890233f7e5ff"
      },
      "outputs": [
        {
          "data": {
            "text/latex": [
              "$\\displaystyle \\tan{\\left(\\frac{y}{x + 1} \\right)}$"
            ],
            "text/plain": [
              "tan(y/(x + 1))"
            ]
          },
          "metadata": {},
          "output_type": "display_data"
        }
      ],
      "source": [
        "x = Symbol('x')\n",
        "y = Symbol('y')\n",
        "f = tan(y/(1+x))\n",
        "display(f)"
      ]
    },
    {
      "cell_type": "code",
      "execution_count": null,
      "metadata": {
        "id": "Bs3Un_koPUfR",
        "outputId": "d5a858a0-9724-4bc6-9989-311857da49bb"
      },
      "outputs": [
        {
          "data": {
            "text/latex": [
              "$\\displaystyle y^{3} \\left(- \\frac{10 x^{3}}{3} + 2 x^{2} - x + \\frac{1}{3}\\right) + y \\left(- x^{3} + x^{2} - x + 1\\right)$"
            ],
            "text/plain": [
              "y**3*(-10*x**3/3 + 2*x**2 - x + 1/3) + y*(-x**3 + x**2 - x + 1)"
            ]
          },
          "metadata": {},
          "output_type": "display_data"
        }
      ],
      "source": [
        "num_order = 4\n",
        "f_taylor = f.series(x, 0, num_order).removeO().series(y, 0, num_order).removeO()\n",
        "display(f_taylor)"
      ]
    },
    {
      "cell_type": "code",
      "execution_count": null,
      "metadata": {
        "id": "aLpd1qJTPUfR"
      },
      "outputs": [],
      "source": [
        ""
      ]
    },
    {
      "cell_type": "code",
      "execution_count": null,
      "metadata": {
        "id": "rV428FxtPUfR"
      },
      "outputs": [],
      "source": [
        ""
      ]
    },
    {
      "cell_type": "markdown",
      "metadata": {
        "id": "O45TxC5mPUfR"
      },
      "source": [
        "# Grad, Hessian"
      ]
    },
    {
      "cell_type": "code",
      "execution_count": null,
      "metadata": {
        "id": "Xs5NGpoTPUfR"
      },
      "outputs": [],
      "source": [
        "import numpy as np\n",
        "import numdifftools as nd\n",
        "import copy\n",
        "\n",
        "import time"
      ]
    },
    {
      "cell_type": "code",
      "execution_count": null,
      "metadata": {
        "scrolled": true,
        "id": "bL0XiY93PUfS",
        "outputId": "665785e6-19ba-4e7c-da6b-66cfbc7059a9"
      },
      "outputs": [
        {
          "name": "stdout",
          "output_type": "stream",
          "text": [
            "Requirement already satisfied: numdifftools in /home/tako/anaconda3/envs/lsy/lib/python3.6/site-packages (0.9.39)\r\n"
          ]
        }
      ],
      "source": [
        "! pip install numdifftools"
      ]
    },
    {
      "cell_type": "markdown",
      "metadata": {
        "id": "qq4naWhmPUfS"
      },
      "source": [
        "## numdifftools 사용 방법"
      ]
    },
    {
      "cell_type": "code",
      "execution_count": null,
      "metadata": {
        "id": "X8kwXMDXPUfS"
      },
      "outputs": [],
      "source": [
        "fun = lambda x : 4*x[1]**3+x[0]**2-12*x[1]**2-36*x[1]+2"
      ]
    },
    {
      "cell_type": "code",
      "execution_count": null,
      "metadata": {
        "id": "wLlr252FPUfS"
      },
      "outputs": [],
      "source": [
        "H = nd.Hessian(fun)"
      ]
    },
    {
      "cell_type": "code",
      "execution_count": null,
      "metadata": {
        "id": "y6XMuBQDPUfS",
        "outputId": "2943770a-cf98-4f7c-a383-e8223d6d2411"
      },
      "outputs": [
        {
          "data": {
            "text/plain": [
              "array([[2., 0.],\n",
              "       [0., 0.]])"
            ]
          },
          "execution_count": 6,
          "metadata": {},
          "output_type": "execute_result"
        }
      ],
      "source": [
        "H(np.array([1, 1]))"
      ]
    },
    {
      "cell_type": "code",
      "execution_count": null,
      "metadata": {
        "id": "QoPlmVhkPUfT"
      },
      "outputs": [],
      "source": [
        "g = nd.Gradient(fun)"
      ]
    },
    {
      "cell_type": "code",
      "execution_count": null,
      "metadata": {
        "scrolled": true,
        "id": "gCjN7qKfPUfT",
        "outputId": "81f00394-0b13-4d73-a542-b0f20605ca49"
      },
      "outputs": [
        {
          "data": {
            "text/plain": [
              "array([  2., -48.])"
            ]
          },
          "execution_count": 8,
          "metadata": {},
          "output_type": "execute_result"
        }
      ],
      "source": [
        "g([1,1])"
      ]
    },
    {
      "cell_type": "code",
      "execution_count": null,
      "metadata": {
        "id": "rc6rFeUNPUfT"
      },
      "outputs": [],
      "source": [
        ""
      ]
    }
  ],
  "metadata": {
    "kernelspec": {
      "display_name": "Python 3",
      "language": "python",
      "name": "python3"
    },
    "language_info": {
      "codemirror_mode": {
        "name": "ipython",
        "version": 3
      },
      "file_extension": ".py",
      "mimetype": "text/x-python",
      "name": "python",
      "nbconvert_exporter": "python",
      "pygments_lexer": "ipython3",
      "version": "3.6.9"
    },
    "colab": {
      "name": "OP_Day_1.ipynb",
      "provenance": []
    }
  },
  "nbformat": 4,
  "nbformat_minor": 0
}