{
 "cells": [
  {
   "cell_type": "markdown",
   "metadata": {},
   "source": [
    "# 1. QR-Factorization"
   ]
  },
  {
   "cell_type": "code",
   "execution_count": 22,
   "metadata": {},
   "outputs": [],
   "source": [
    "import numpy as np"
   ]
  },
  {
   "cell_type": "code",
   "execution_count": 23,
   "metadata": {},
   "outputs": [],
   "source": [
    "A = np.matrix([[3, 4],\n",
    "               [1, 2]])"
   ]
  },
  {
   "cell_type": "code",
   "execution_count": 24,
   "metadata": {},
   "outputs": [],
   "source": [
    "a1 = A[:,0]\n",
    "a2 = A[:,1]"
   ]
  },
  {
   "cell_type": "code",
   "execution_count": 25,
   "metadata": {},
   "outputs": [],
   "source": [
    "q1 = a1 / np.linalg.norm(a1)"
   ]
  },
  {
   "cell_type": "code",
   "execution_count": 26,
   "metadata": {},
   "outputs": [],
   "source": [
    "a2_prime = a2 - q1 * q1.T * a2"
   ]
  },
  {
   "cell_type": "code",
   "execution_count": 27,
   "metadata": {},
   "outputs": [],
   "source": [
    "q2 = a2_prime / np.linalg.norm(a2_prime)"
   ]
  },
  {
   "cell_type": "code",
   "execution_count": 28,
   "metadata": {},
   "outputs": [
    {
     "data": {
      "text/plain": [
       "matrix([[ 0.9486833 , -0.31622777],\n",
       "        [ 0.31622777,  0.9486833 ]])"
      ]
     },
     "execution_count": 28,
     "metadata": {},
     "output_type": "execute_result"
    }
   ],
   "source": [
    "Q = np.concatenate((q1, q2), axis=1)\n",
    "Q"
   ]
  },
  {
   "cell_type": "code",
   "execution_count": 29,
   "metadata": {},
   "outputs": [
    {
     "data": {
      "text/plain": [
       "matrix([[3.16227766, 4.42718872],\n",
       "        [0.        , 0.63245553]])"
      ]
     },
     "execution_count": 29,
     "metadata": {},
     "output_type": "execute_result"
    }
   ],
   "source": [
    "R = np.matrix([[np.linalg.norm(a1), np.float(q1.T*a2)],\n",
    "          [0, np.linalg.norm(a2_prime)]])\n",
    "R"
   ]
  },
  {
   "cell_type": "code",
   "execution_count": 30,
   "metadata": {},
   "outputs": [
    {
     "data": {
      "text/plain": [
       "'확인\\nA\\nQ * Q.T\\nQ.T * Q\\n3/np.sqrt(10)\\n1/np.sqrt(10)\\nR\\nnp.sqrt(10)\\n7*np.sqrt(2/5)\\nnp.sqrt(2/5)\\nQ * R\\n\\n'"
      ]
     },
     "execution_count": 30,
     "metadata": {},
     "output_type": "execute_result"
    }
   ],
   "source": [
    "\n",
    "\"\"\"확인\n",
    "A\n",
    "Q * Q.T\n",
    "Q.T * Q\n",
    "3/np.sqrt(10)\n",
    "1/np.sqrt(10)\n",
    "R\n",
    "np.sqrt(10)\n",
    "7*np.sqrt(2/5)\n",
    "np.sqrt(2/5)\n",
    "Q * R\n",
    "\n",
    "\"\"\""
   ]
  },
  {
   "cell_type": "markdown",
   "metadata": {},
   "source": [
    "## QR in linalg"
   ]
  },
  {
   "cell_type": "code",
   "execution_count": 31,
   "metadata": {},
   "outputs": [],
   "source": [
    "import scipy\n",
    "from scipy import matrix\n",
    "from scipy import linalg\n",
    "import numpy as np"
   ]
  },
  {
   "cell_type": "code",
   "execution_count": 32,
   "metadata": {},
   "outputs": [],
   "source": [
    "# Classical Gram-Schmidt orthogonalization\n",
    "# MATLAB\n",
    "# function [Q, R] = clgs(A)\n",
    "# [m, n] = size(A);\n",
    "# V=A; Q=eye(m,n);\n",
    "# R=zeros(n,n);\n",
    "# for j=1:n\n",
    "# for i=1:j-1\n",
    "# R(i,j)=Q(:,i)’*A(:,j);\n",
    "# V(:,j)=V(:,j)-R(i,j)*Q(:,i);\n",
    "# end\n",
    "# R(j,j)=norm(V(:,j));\n",
    "# Q(:,j)=V(:,j)/R(j,j);\n",
    "# end"
   ]
  },
  {
   "cell_type": "code",
   "execution_count": 33,
   "metadata": {},
   "outputs": [],
   "source": [
    "# Modified Gram-Schmidt orthogonalization\n",
    "# MATLAB\n",
    "# function [Q, R] = grams(A)\n",
    "# [m, n] = size(A);\n",
    "# Q = A;\n",
    "# R=zeros(n,n);\n",
    "# for i = 1:n-1\n",
    "# R(i,i)=norm(Q(:,i));\n",
    "# Q(:,i)=Q(:,i)/R(i,i);\n",
    "# R(i,i+1:n)=Q(:,i)’*Q(:,i+1:n);\n",
    "# Q(:,i+1:n)=Q(:,i+1:n)-Q(:,i)*R(i,i+1:n);\n",
    "# end\n",
    "# R(n,n)=norm(Q(:,n));\n",
    "# Q(:,n)=Q(:,n)/R(n,n);"
   ]
  },
  {
   "cell_type": "code",
   "execution_count": 34,
   "metadata": {},
   "outputs": [],
   "source": [
    "A = matrix([[-1, -1, 1], [1, 3, 3], [-1, -1, 5], [1, 3, 7]])"
   ]
  },
  {
   "cell_type": "code",
   "execution_count": 35,
   "metadata": {},
   "outputs": [
    {
     "data": {
      "text/plain": [
       "matrix([[-1, -1,  1],\n",
       "        [ 1,  3,  3],\n",
       "        [-1, -1,  5],\n",
       "        [ 1,  3,  7]])"
      ]
     },
     "execution_count": 35,
     "metadata": {},
     "output_type": "execute_result"
    }
   ],
   "source": [
    "A"
   ]
  },
  {
   "cell_type": "code",
   "execution_count": 36,
   "metadata": {},
   "outputs": [],
   "source": [
    "Q, R = linalg.qr(A)"
   ]
  },
  {
   "cell_type": "code",
   "execution_count": 37,
   "metadata": {},
   "outputs": [
    {
     "data": {
      "text/plain": [
       "matrix([[-0.5, -0.5,  0.5,  0.5],\n",
       "        [ 0.5, -0.5,  0.5, -0.5],\n",
       "        [-0.5, -0.5, -0.5, -0.5],\n",
       "        [ 0.5, -0.5, -0.5,  0.5]])"
      ]
     },
     "execution_count": 37,
     "metadata": {},
     "output_type": "execute_result"
    }
   ],
   "source": [
    "Q = np.asmatrix(Q)\n",
    "Q"
   ]
  },
  {
   "cell_type": "code",
   "execution_count": 38,
   "metadata": {
    "scrolled": true
   },
   "outputs": [
    {
     "data": {
      "text/plain": [
       "matrix([[ 2.,  4.,  2.],\n",
       "        [ 0., -2., -8.],\n",
       "        [ 0.,  0., -4.],\n",
       "        [ 0.,  0.,  0.]])"
      ]
     },
     "execution_count": 38,
     "metadata": {},
     "output_type": "execute_result"
    }
   ],
   "source": [
    "R = np.asmatrix(R)\n",
    "R"
   ]
  },
  {
   "cell_type": "code",
   "execution_count": 39,
   "metadata": {},
   "outputs": [
    {
     "data": {
      "text/plain": [
       "matrix([[-1., -1.,  1.],\n",
       "        [ 1.,  3.,  3.],\n",
       "        [-1., -1.,  5.],\n",
       "        [ 1.,  3.,  7.]])"
      ]
     },
     "execution_count": 39,
     "metadata": {},
     "output_type": "execute_result"
    }
   ],
   "source": [
    "Q*R"
   ]
  },
  {
   "cell_type": "markdown",
   "metadata": {},
   "source": [
    "# 2. Eigenvalues & Eigenvectors"
   ]
  },
  {
   "cell_type": "markdown",
   "metadata": {},
   "source": [
    "## Equation Solver"
   ]
  },
  {
   "cell_type": "code",
   "execution_count": 40,
   "metadata": {},
   "outputs": [],
   "source": [
    "from sympy.solvers import solve\n",
    "from sympy import Symbol"
   ]
  },
  {
   "cell_type": "code",
   "execution_count": 41,
   "metadata": {
    "scrolled": true
   },
   "outputs": [
    {
     "data": {
      "text/plain": [
       "[-1, 1]"
      ]
     },
     "execution_count": 41,
     "metadata": {},
     "output_type": "execute_result"
    }
   ],
   "source": [
    "x = Symbol('x')\n",
    "solve(x**2 - 1, x)"
   ]
  },
  {
   "cell_type": "markdown",
   "metadata": {},
   "source": [
    "## Eigenvalues with Equation"
   ]
  },
  {
   "cell_type": "code",
   "execution_count": 42,
   "metadata": {},
   "outputs": [
    {
     "data": {
      "text/plain": [
       "matrix([[ 4, -2],\n",
       "        [ 1,  1]])"
      ]
     },
     "execution_count": 42,
     "metadata": {},
     "output_type": "execute_result"
    }
   ],
   "source": [
    "A = matrix([[4, -2], [1, 1]])\n",
    "A"
   ]
  },
  {
   "cell_type": "code",
   "execution_count": 43,
   "metadata": {},
   "outputs": [],
   "source": [
    "lam = Symbol('lam')"
   ]
  },
  {
   "cell_type": "code",
   "execution_count": 44,
   "metadata": {},
   "outputs": [
    {
     "data": {
      "text/plain": [
       "matrix([[-1.0*lam + 4, -2],\n",
       "        [1, -1.0*lam + 1]], dtype=object)"
      ]
     },
     "execution_count": 44,
     "metadata": {},
     "output_type": "execute_result"
    }
   ],
   "source": [
    "A_lam = A - lam*np.asmatrix(np.identity(2))\n",
    "A_lam"
   ]
  },
  {
   "cell_type": "code",
   "execution_count": 45,
   "metadata": {},
   "outputs": [
    {
     "data": {
      "text/plain": [
       "(-1.0*lam + 1)*(-1.0*lam + 4) + 2"
      ]
     },
     "execution_count": 45,
     "metadata": {},
     "output_type": "execute_result"
    }
   ],
   "source": [
    "equation = A_lam[0,0]*A_lam[1,1] - A_lam[0,1]*A_lam[1,0]\n",
    "equation"
   ]
  },
  {
   "cell_type": "code",
   "execution_count": 46,
   "metadata": {},
   "outputs": [
    {
     "data": {
      "text/plain": [
       "[2.00000000000000, 3.00000000000000]"
      ]
     },
     "execution_count": 46,
     "metadata": {},
     "output_type": "execute_result"
    }
   ],
   "source": [
    "solve(equation, lam)"
   ]
  },
  {
   "cell_type": "markdown",
   "metadata": {},
   "source": [
    "## Eigenvalues and Eigenvectors with Package"
   ]
  },
  {
   "cell_type": "markdown",
   "metadata": {},
   "source": [
    "# 2 x 2"
   ]
  },
  {
   "cell_type": "code",
   "execution_count": 47,
   "metadata": {},
   "outputs": [],
   "source": [
    "eigenvalue, eigenvector = linalg.eig(A)"
   ]
  },
  {
   "cell_type": "code",
   "execution_count": 48,
   "metadata": {},
   "outputs": [
    {
     "data": {
      "text/plain": [
       "array([3.+0.j, 2.+0.j])"
      ]
     },
     "execution_count": 48,
     "metadata": {},
     "output_type": "execute_result"
    }
   ],
   "source": [
    "eigenvalue"
   ]
  },
  {
   "cell_type": "code",
   "execution_count": 49,
   "metadata": {},
   "outputs": [
    {
     "data": {
      "text/plain": [
       "array([[0.89442719, 0.70710678],\n",
       "       [0.4472136 , 0.70710678]])"
      ]
     },
     "execution_count": 49,
     "metadata": {},
     "output_type": "execute_result"
    }
   ],
   "source": [
    "eigenvector"
   ]
  },
  {
   "cell_type": "code",
   "execution_count": 51,
   "metadata": {},
   "outputs": [
    {
     "name": "stdout",
     "output_type": "stream",
     "text": [
      "[1.  0.5]\n"
     ]
    }
   ],
   "source": [
    "print(eigenvector[:,0] / eigenvector[0,0])"
   ]
  },
  {
   "cell_type": "code",
   "execution_count": 52,
   "metadata": {},
   "outputs": [
    {
     "name": "stdout",
     "output_type": "stream",
     "text": [
      "[1. 1.]\n"
     ]
    }
   ],
   "source": [
    "print(eigenvector[:,1] / eigenvector[0,1])"
   ]
  },
  {
   "cell_type": "markdown",
   "metadata": {},
   "source": [
    "# 3 x 3"
   ]
  },
  {
   "cell_type": "code",
   "execution_count": 54,
   "metadata": {},
   "outputs": [
    {
     "name": "stdout",
     "output_type": "stream",
     "text": [
      "[1.33226763e-15+0.00000000e+00j 1.00000000e+00+8.74190484e-16j\n",
      " 1.00000000e+00-8.74190484e-16j]\n",
      "[[-0.57735027+0.j          0.81103583+0.j          0.81103583-0.j        ]\n",
      " [-0.57735027+0.j          0.36250517-0.11591802j  0.36250517+0.11591802j]\n",
      " [-0.57735027+0.j          0.27647967-0.34775407j  0.27647967+0.34775407j]]\n",
      "[[1.-0.j]\n",
      " [1.-0.j]\n",
      " [1.-0.j]]\n",
      "[[1.        +0.j       ]\n",
      " [0.44696566-0.1429259j]\n",
      " [0.34089699-0.4287777j]]\n",
      "[[1.        +0.j       ]\n",
      " [0.44696566+0.1429259j]\n",
      " [0.34089699+0.4287777j]]\n"
     ]
    }
   ],
   "source": [
    "import numpy as np\n",
    "eig = np.linalg.eig\n",
    "\n",
    "matrix = np.matrix([[2,-3,1],[1,-2,1],[1,-3,2]])\n",
    "eigen = eig(matrix)\n",
    "\n",
    "eigen_value = eigen[0]\n",
    "print(eigen_value)\n",
    "# [0,1,1]\n",
    "\n",
    "eigen_vector = eigen[1]\n",
    "print(eigen_vector)\n",
    "\n",
    "print(eigen_vector[:,0] / eigen_vector[0,0])\n",
    "\n",
    "print(eigen_vector[:,1] / eigen_vector[0,1])\n",
    "\n",
    "print(eigen_vector[:,2] / eigen_vector[0,2])"
   ]
  },
  {
   "cell_type": "markdown",
   "metadata": {},
   "source": [
    "# 3. Eigen Value Decomposition"
   ]
  },
  {
   "cell_type": "markdown",
   "metadata": {},
   "source": [
    "# 예시 1"
   ]
  },
  {
   "cell_type": "code",
   "execution_count": 57,
   "metadata": {},
   "outputs": [],
   "source": [
    "inv = np.linalg.inv\n",
    "\n",
    "A = np.matrix([[4, -2], [1, 1]])\n"
   ]
  },
  {
   "cell_type": "code",
   "execution_count": 58,
   "metadata": {},
   "outputs": [],
   "source": [
    "eigenvalue, eigen_vector = linalg.eig(A)"
   ]
  },
  {
   "cell_type": "code",
   "execution_count": 59,
   "metadata": {},
   "outputs": [
    {
     "data": {
      "text/plain": [
       "array([3.+0.j, 2.+0.j])"
      ]
     },
     "execution_count": 59,
     "metadata": {},
     "output_type": "execute_result"
    }
   ],
   "source": [
    "eigenvalue"
   ]
  },
  {
   "cell_type": "code",
   "execution_count": 60,
   "metadata": {},
   "outputs": [
    {
     "data": {
      "text/plain": [
       "array([[0.89442719, 0.70710678],\n",
       "       [0.4472136 , 0.70710678]])"
      ]
     },
     "execution_count": 60,
     "metadata": {},
     "output_type": "execute_result"
    }
   ],
   "source": [
    "eigen_vector"
   ]
  },
  {
   "cell_type": "code",
   "execution_count": 61,
   "metadata": {},
   "outputs": [
    {
     "data": {
      "text/plain": [
       "array([[ 2.23606798, -2.23606798],\n",
       "       [-1.41421356,  2.82842712]])"
      ]
     },
     "execution_count": 61,
     "metadata": {},
     "output_type": "execute_result"
    }
   ],
   "source": [
    "inv(eigen_vector) # U^(-1)\n"
   ]
  },
  {
   "cell_type": "code",
   "execution_count": 62,
   "metadata": {},
   "outputs": [
    {
     "data": {
      "text/plain": [
       "matrix([[ 4., -2.],\n",
       "        [ 1.,  1.]])"
      ]
     },
     "execution_count": 62,
     "metadata": {},
     "output_type": "execute_result"
    }
   ],
   "source": [
    "inv(eigen_vector) * A * eigen_vector # eigen value # numerical result # # U^(-1) * S * U\n",
    "eigen_vector * np.matrix([[3,0],[0,2]]) * inv(eigen_vector)"
   ]
  },
  {
   "cell_type": "markdown",
   "metadata": {},
   "source": [
    "# 예시 2"
   ]
  },
  {
   "cell_type": "code",
   "execution_count": 20,
   "metadata": {},
   "outputs": [],
   "source": [
    "eigenvalue, eigenvector = linalg.eig(A)"
   ]
  },
  {
   "cell_type": "code",
   "execution_count": 21,
   "metadata": {},
   "outputs": [
    {
     "data": {
      "text/plain": [
       "2"
      ]
     },
     "execution_count": 21,
     "metadata": {},
     "output_type": "execute_result"
    }
   ],
   "source": [
    "eigenvalue.shape[0]"
   ]
  },
  {
   "cell_type": "code",
   "execution_count": 22,
   "metadata": {},
   "outputs": [
    {
     "name": "stderr",
     "output_type": "stream",
     "text": [
      "C:\\ProgramData\\Anaconda3\\lib\\site-packages\\ipykernel_launcher.py:3: ComplexWarning: Casting complex values to real discards the imaginary part\n",
      "  This is separate from the ipykernel package so we can avoid doing imports until\n"
     ]
    },
    {
     "data": {
      "text/plain": [
       "array([[ 2.,  0.],\n",
       "       [ 0., -5.]])"
      ]
     },
     "execution_count": 22,
     "metadata": {},
     "output_type": "execute_result"
    }
   ],
   "source": [
    "L = np.identity(eigenvalue.shape[0])\n",
    "for i in range(eigenvalue.shape[0]) :\n",
    "    L[i, i] = eigenvalue[i]\n",
    "L"
   ]
  },
  {
   "cell_type": "code",
   "execution_count": 23,
   "metadata": {},
   "outputs": [
    {
     "data": {
      "text/plain": [
       "matrix([[ 0.89442719, -0.31622777],\n",
       "        [ 0.4472136 ,  0.9486833 ]])"
      ]
     },
     "execution_count": 23,
     "metadata": {},
     "output_type": "execute_result"
    }
   ],
   "source": [
    "S= np.asmatrix(eigenvector)\n",
    "S"
   ]
  },
  {
   "cell_type": "code",
   "execution_count": 24,
   "metadata": {},
   "outputs": [
    {
     "data": {
      "text/plain": [
       "matrix([[ 1.78885438,  1.58113883],\n",
       "        [ 0.89442719, -4.74341649]])"
      ]
     },
     "execution_count": 24,
     "metadata": {},
     "output_type": "execute_result"
    }
   ],
   "source": [
    "A*S"
   ]
  },
  {
   "cell_type": "code",
   "execution_count": 25,
   "metadata": {},
   "outputs": [
    {
     "data": {
      "text/plain": [
       "matrix([[ 1.78885438,  1.58113883],\n",
       "        [ 0.89442719, -4.74341649]])"
      ]
     },
     "execution_count": 25,
     "metadata": {},
     "output_type": "execute_result"
    }
   ],
   "source": [
    "S*L"
   ]
  },
  {
   "cell_type": "code",
   "execution_count": 26,
   "metadata": {
    "scrolled": true
   },
   "outputs": [
    {
     "data": {
      "text/plain": [
       "matrix([[ True, False],\n",
       "        [False,  True]])"
      ]
     },
     "execution_count": 26,
     "metadata": {},
     "output_type": "execute_result"
    }
   ],
   "source": [
    "A*S==S*L"
   ]
  },
  {
   "cell_type": "code",
   "execution_count": 27,
   "metadata": {},
   "outputs": [
    {
     "data": {
      "text/plain": [
       "True"
      ]
     },
     "execution_count": 27,
     "metadata": {},
     "output_type": "execute_result"
    }
   ],
   "source": [
    "np.allclose(A*S, S*L)"
   ]
  }
 ],
 "metadata": {
  "kernelspec": {
   "display_name": "Python 3",
   "language": "python",
   "name": "python3"
  },
  "language_info": {
   "codemirror_mode": {
    "name": "ipython",
    "version": 3
   },
   "file_extension": ".py",
   "mimetype": "text/x-python",
   "name": "python",
   "nbconvert_exporter": "python",
   "pygments_lexer": "ipython3",
   "version": "3.6.5"
  }
 },
 "nbformat": 4,
 "nbformat_minor": 2
}
